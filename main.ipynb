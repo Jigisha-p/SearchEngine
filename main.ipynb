{
 "cells": [
  {
   "attachments": {},
   "cell_type": "markdown",
   "metadata": {},
   "source": [
    "### Problem: <br>\n",
    "You have a website where  you are selling books(say 7). For  the website you have to create a  search engine where the visitor  will a search term and one of the  book details will be shown. You  have the following dataset of the  title of the book., description,  keywords(tags) and price of the book.\n",
    "\n",
    "We have to create a search engine with keywords of the books.\n",
    "\n",
    "#### Solution:\n",
    "For this  problem we will recieve the user input in normal  language, so we need to use NLP and then we need  to classify the search result into one book so we  need use a classifier too.\n",
    "\n",
    "We have to create another dataset which  will extract all the words from the keywords for  each book and then form unique combinations with  them and then we can apply CountVectorizer and  TfidfTransformer's to ready them for our  classifier to understand and then we will train  our classifier that will be a decision tree  classifier and then we can pass the search terms to it\n"
   ]
  },
  {
   "cell_type": "code",
   "execution_count": 4,
   "metadata": {},
   "outputs": [
    {
     "name": "stdout",
     "output_type": "stream",
     "text": [
      "Collecting pandas\n",
      "  Using cached pandas-1.5.2-cp310-cp310-macosx_11_0_arm64.whl (10.8 MB)\n",
      "Collecting pytz>=2020.1\n",
      "  Downloading pytz-2022.7.1-py2.py3-none-any.whl (499 kB)\n",
      "\u001b[2K     \u001b[90m━━━━━━━━━━━━━━━━━━━━━━━━━━━━━━━━━━━━━━━\u001b[0m \u001b[32m499.4/499.4 kB\u001b[0m \u001b[31m6.1 MB/s\u001b[0m eta \u001b[36m0:00:00\u001b[0m00:01\u001b[0m00:01\u001b[0m\n",
      "\u001b[?25hRequirement already satisfied: python-dateutil>=2.8.1 in /Users/jigishap/.pyenv/versions/3.10.6/envs/AI_concepts/lib/python3.10/site-packages (from pandas) (2.8.2)\n",
      "Collecting numpy>=1.21.0\n",
      "  Using cached numpy-1.24.1-cp310-cp310-macosx_11_0_arm64.whl (13.9 MB)\n",
      "Requirement already satisfied: six>=1.5 in /Users/jigishap/.pyenv/versions/3.10.6/envs/AI_concepts/lib/python3.10/site-packages (from python-dateutil>=2.8.1->pandas) (1.16.0)\n",
      "Installing collected packages: pytz, numpy, pandas\n",
      "Successfully installed numpy-1.24.1 pandas-1.5.2 pytz-2022.7.1\n",
      "Note: you may need to restart the kernel to use updated packages.\n"
     ]
    }
   ],
   "source": [
    "pip install pandas"
   ]
  },
  {
   "cell_type": "code",
   "execution_count": 4,
   "metadata": {},
   "outputs": [
    {
     "name": "stdout",
     "output_type": "stream",
     "text": [
      "Collecting scikit-learn\n",
      "  Using cached scikit_learn-1.2.0-cp310-cp310-macosx_12_0_arm64.whl (8.3 MB)\n",
      "Collecting scipy>=1.3.2\n",
      "  Using cached scipy-1.10.0-cp310-cp310-macosx_12_0_arm64.whl (28.8 MB)\n",
      "Requirement already satisfied: joblib>=1.1.1 in /Users/jigishap/.pyenv/versions/3.10.6/envs/AI_concepts/lib/python3.10/site-packages (from scikit-learn) (1.2.0)\n",
      "Collecting threadpoolctl>=2.0.0\n",
      "  Using cached threadpoolctl-3.1.0-py3-none-any.whl (14 kB)\n",
      "Requirement already satisfied: numpy>=1.17.3 in /Users/jigishap/.pyenv/versions/3.10.6/envs/AI_concepts/lib/python3.10/site-packages (from scikit-learn) (1.24.1)\n",
      "Installing collected packages: threadpoolctl, scipy, scikit-learn\n",
      "Successfully installed scikit-learn-1.2.0 scipy-1.10.0 threadpoolctl-3.1.0\n",
      "Note: you may need to restart the kernel to use updated packages.\n"
     ]
    }
   ],
   "source": [
    "pip install scikit-learn"
   ]
  },
  {
   "cell_type": "code",
   "execution_count": 3,
   "metadata": {},
   "outputs": [],
   "source": [
    "import pandas as pd  \n",
    "from sklearn.tree import DecisionTreeClassifier  \n",
    "from sklearn.feature_extraction.text import CountVectorizer, TfidfTransformer "
   ]
  },
  {
   "cell_type": "code",
   "execution_count": 4,
   "metadata": {},
   "outputs": [
    {
     "data": {
      "text/html": [
       "<div>\n",
       "<style scoped>\n",
       "    .dataframe tbody tr th:only-of-type {\n",
       "        vertical-align: middle;\n",
       "    }\n",
       "\n",
       "    .dataframe tbody tr th {\n",
       "        vertical-align: top;\n",
       "    }\n",
       "\n",
       "    .dataframe thead th {\n",
       "        text-align: right;\n",
       "    }\n",
       "</style>\n",
       "<table border=\"1\" class=\"dataframe\">\n",
       "  <thead>\n",
       "    <tr style=\"text-align: right;\">\n",
       "      <th></th>\n",
       "      <th>Title</th>\n",
       "      <th>Description</th>\n",
       "      <th>Keywords</th>\n",
       "      <th>Price</th>\n",
       "    </tr>\n",
       "  </thead>\n",
       "  <tbody>\n",
       "    <tr>\n",
       "      <th>0</th>\n",
       "      <td>It's Python</td>\n",
       "      <td>A beginners guidebook to programming with Pyth...</td>\n",
       "      <td>python for beginners, python programming</td>\n",
       "      <td>$3.00</td>\n",
       "    </tr>\n",
       "    <tr>\n",
       "      <th>1</th>\n",
       "      <td>Data Science with Python</td>\n",
       "      <td>Data Science with Python is a book created to ...</td>\n",
       "      <td>data science, python</td>\n",
       "      <td>$3.09</td>\n",
       "    </tr>\n",
       "    <tr>\n",
       "      <th>2</th>\n",
       "      <td>Machine learning with Python</td>\n",
       "      <td>Do you know all the automatic recommendations ...</td>\n",
       "      <td>machine learning, python, regression, classifi...</td>\n",
       "      <td>$3.19</td>\n",
       "    </tr>\n",
       "    <tr>\n",
       "      <th>3</th>\n",
       "      <td>Artificial Intelligence with Python</td>\n",
       "      <td>Learn the idea behind how to create intelligen...</td>\n",
       "      <td>ai, python, artificial intelligence</td>\n",
       "      <td>$3.50</td>\n",
       "    </tr>\n",
       "    <tr>\n",
       "      <th>4</th>\n",
       "      <td>Data analysis with Python</td>\n",
       "      <td>Learn how to perform different types of analyt...</td>\n",
       "      <td>data analysis, pandas, data processing, python</td>\n",
       "      <td>$3.00</td>\n",
       "    </tr>\n",
       "    <tr>\n",
       "      <th>5</th>\n",
       "      <td>Data visualization with Python</td>\n",
       "      <td>Looking at raw data is boring, present it in t...</td>\n",
       "      <td>data visualization, python, matplotlib</td>\n",
       "      <td>$3.00</td>\n",
       "    </tr>\n",
       "    <tr>\n",
       "      <th>6</th>\n",
       "      <td>OOP with Python</td>\n",
       "      <td>Object Oriented Programming with Python. Learn...</td>\n",
       "      <td>object oreiented programming, python</td>\n",
       "      <td>$3.00</td>\n",
       "    </tr>\n",
       "  </tbody>\n",
       "</table>\n",
       "</div>"
      ],
      "text/plain": [
       "                                 Title  \\\n",
       "0                          It's Python   \n",
       "1             Data Science with Python   \n",
       "2         Machine learning with Python   \n",
       "3  Artificial Intelligence with Python   \n",
       "4            Data analysis with Python   \n",
       "5       Data visualization with Python   \n",
       "6                      OOP with Python   \n",
       "\n",
       "                                         Description  \\\n",
       "0  A beginners guidebook to programming with Pyth...   \n",
       "1  Data Science with Python is a book created to ...   \n",
       "2  Do you know all the automatic recommendations ...   \n",
       "3  Learn the idea behind how to create intelligen...   \n",
       "4  Learn how to perform different types of analyt...   \n",
       "5  Looking at raw data is boring, present it in t...   \n",
       "6  Object Oriented Programming with Python. Learn...   \n",
       "\n",
       "                                            Keywords  Price  \n",
       "0           python for beginners, python programming  $3.00  \n",
       "1                               data science, python  $3.09  \n",
       "2  machine learning, python, regression, classifi...  $3.19  \n",
       "3                ai, python, artificial intelligence  $3.50  \n",
       "4     data analysis, pandas, data processing, python  $3.00  \n",
       "5             data visualization, python, matplotlib  $3.00  \n",
       "6               object oreiented programming, python  $3.00  "
      ]
     },
     "execution_count": 4,
     "metadata": {},
     "output_type": "execute_result"
    }
   ],
   "source": [
    "dt=pd.read_csv('data/books_metadata.csv')\n",
    "dt"
   ]
  },
  {
   "cell_type": "markdown",
   "metadata": {},
   "source": [
    "#### Extract the keywords"
   ]
  },
  {
   "cell_type": "code",
   "execution_count": 5,
   "metadata": {},
   "outputs": [
    {
     "data": {
      "text/plain": [
       "['python', 'for', 'beginners', 'python', 'programming']"
      ]
     },
     "execution_count": 5,
     "metadata": {},
     "output_type": "execute_result"
    }
   ],
   "source": [
    "from nltk import word_tokenize \n",
    "Kys = dt['Keywords'].values  \n",
    "b1_kys = word_tokenize(Kys[0])  # Keywords for book 2\n",
    "b1_kys.remove(',')  \n",
    "b1_kys "
   ]
  },
  {
   "attachments": {},
   "cell_type": "markdown",
   "metadata": {},
   "source": [
    "#### Creating Unique combinations"
   ]
  },
  {
   "cell_type": "code",
   "execution_count": 7,
   "metadata": {},
   "outputs": [
    {
     "name": "stdout",
     "output_type": "stream",
     "text": [
      "Collecting python-constraint\n",
      "  Downloading python-constraint-1.4.0.tar.bz2 (18 kB)\n",
      "  Preparing metadata (setup.py) ... \u001b[?25ldone\n",
      "\u001b[?25hInstalling collected packages: python-constraint\n",
      "\u001b[33m  DEPRECATION: python-constraint is being installed using the legacy 'setup.py install' method, because it does not have a 'pyproject.toml' and the 'wheel' package is not installed. pip 23.1 will enforce this behaviour change. A possible replacement is to enable the '--use-pep517' option. Discussion can be found at https://github.com/pypa/pip/issues/8559\u001b[0m\u001b[33m\n",
      "\u001b[0m  Running setup.py install for python-constraint ... \u001b[?25ldone\n",
      "\u001b[?25hSuccessfully installed python-constraint-1.4.0\n",
      "Note: you may need to restart the kernel to use updated packages.\n"
     ]
    }
   ],
   "source": [
    "pip install python-constraint"
   ]
  },
  {
   "cell_type": "code",
   "execution_count": 7,
   "metadata": {},
   "outputs": [],
   "source": [
    "import constraint  \n",
    "#Creating Combinations  \n",
    "com = constraint.Problem()  \n",
    "com.addVariables([\"a\",\"b\"], b1_kys)  \n",
    "com.addConstraint(constraint.AllDifferentConstraint()) "
   ]
  },
  {
   "cell_type": "code",
   "execution_count": 8,
   "metadata": {},
   "outputs": [
    {
     "data": {
      "text/plain": [
       "['programming python',\n",
       " 'programming beginners',\n",
       " 'programming for',\n",
       " 'programming python',\n",
       " 'python programming',\n",
       " 'python beginners',\n",
       " 'python for',\n",
       " 'beginners python',\n",
       " 'beginners programming',\n",
       " 'beginners python',\n",
       " 'beginners for',\n",
       " 'for beginners',\n",
       " 'for python',\n",
       " 'for programming',\n",
       " 'for python',\n",
       " 'python for',\n",
       " 'python beginners',\n",
       " 'python programming']"
      ]
     },
     "execution_count": 8,
     "metadata": {},
     "output_type": "execute_result"
    }
   ],
   "source": [
    "wrds = []  \n",
    "for ele in com.getSolutions():  \n",
    "    wrds.append(f\"{ele['a']} \"+ f\"{ele['b']}\")  \n",
    "wrds \n",
    " "
   ]
  },
  {
   "cell_type": "code",
   "execution_count": 10,
   "metadata": {},
   "outputs": [],
   "source": [
    "# Extracting the keywords and creating keywords combinations for all books\n",
    "\n",
    "Titles = dt['Title'].values  \n",
    "Kys = dt['Keywords'].values  \n",
    "keywrds = {'B1': [], 'B2': [], 'B3': [], 'B4': [],  'B5': [], 'B6': [], 'B7': []}  \n",
    "kys = []  \n",
    "wrds = []  \n",
    "for i in range(7):  \n",
    "    kys.clear()  \n",
    "    wrds.clear()  \n",
    "    kys = word_tokenize(Kys[i])  \n",
    "    while (kys.count(',')):  \n",
    "        kys.remove(',')  \n",
    "        com = constraint.Problem()  \n",
    "        com.addVariables([\"a\",\"b\"],kys)  \n",
    "        com.addConstraint(  constraint.AllDifferentConstraint())  \n",
    "        for ele in com.getSolutions():  \n",
    "            wrds.append(f\"{ele['a']} \"+ f\"{ele['b']}\")  \n",
    "        for k in wrds:  \n",
    "            keywrds[f\"B{i+1}\"].append(k) \n",
    "\n"
   ]
  },
  {
   "cell_type": "code",
   "execution_count": 12,
   "metadata": {},
   "outputs": [],
   "source": [
    "# 2-D list with 1-D list with elements as  the keywords combination and the book label i.e.  Bl, B2, B7.\n",
    "Dt = []  \n",
    "for bk in list(keywrds.keys()):  \n",
    "    for ks in keywrds[bk]:  \n",
    "        Dt.append([ks,bk]) "
   ]
  },
  {
   "cell_type": "code",
   "execution_count": 13,
   "metadata": {},
   "outputs": [
    {
     "data": {
      "text/html": [
       "<div>\n",
       "<style scoped>\n",
       "    .dataframe tbody tr th:only-of-type {\n",
       "        vertical-align: middle;\n",
       "    }\n",
       "\n",
       "    .dataframe tbody tr th {\n",
       "        vertical-align: top;\n",
       "    }\n",
       "\n",
       "    .dataframe thead th {\n",
       "        text-align: right;\n",
       "    }\n",
       "</style>\n",
       "<table border=\"1\" class=\"dataframe\">\n",
       "  <thead>\n",
       "    <tr style=\"text-align: right;\">\n",
       "      <th></th>\n",
       "      <th>Keywords</th>\n",
       "      <th>Book</th>\n",
       "    </tr>\n",
       "  </thead>\n",
       "  <tbody>\n",
       "    <tr>\n",
       "      <th>0</th>\n",
       "      <td>programming python</td>\n",
       "      <td>B1</td>\n",
       "    </tr>\n",
       "    <tr>\n",
       "      <th>1</th>\n",
       "      <td>programming beginners</td>\n",
       "      <td>B1</td>\n",
       "    </tr>\n",
       "    <tr>\n",
       "      <th>2</th>\n",
       "      <td>programming for</td>\n",
       "      <td>B1</td>\n",
       "    </tr>\n",
       "    <tr>\n",
       "      <th>3</th>\n",
       "      <td>programming python</td>\n",
       "      <td>B1</td>\n",
       "    </tr>\n",
       "    <tr>\n",
       "      <th>4</th>\n",
       "      <td>python programming</td>\n",
       "      <td>B1</td>\n",
       "    </tr>\n",
       "    <tr>\n",
       "      <th>...</th>\n",
       "      <td>...</td>\n",
       "      <td>...</td>\n",
       "    </tr>\n",
       "    <tr>\n",
       "      <th>2199</th>\n",
       "      <td>oreiented python</td>\n",
       "      <td>B7</td>\n",
       "    </tr>\n",
       "    <tr>\n",
       "      <th>2200</th>\n",
       "      <td>oreiented object</td>\n",
       "      <td>B7</td>\n",
       "    </tr>\n",
       "    <tr>\n",
       "      <th>2201</th>\n",
       "      <td>object oreiented</td>\n",
       "      <td>B7</td>\n",
       "    </tr>\n",
       "    <tr>\n",
       "      <th>2202</th>\n",
       "      <td>object programming</td>\n",
       "      <td>B7</td>\n",
       "    </tr>\n",
       "    <tr>\n",
       "      <th>2203</th>\n",
       "      <td>object python</td>\n",
       "      <td>B7</td>\n",
       "    </tr>\n",
       "  </tbody>\n",
       "</table>\n",
       "<p>2204 rows × 2 columns</p>\n",
       "</div>"
      ],
      "text/plain": [
       "                   Keywords Book\n",
       "0        programming python   B1\n",
       "1     programming beginners   B1\n",
       "2           programming for   B1\n",
       "3        programming python   B1\n",
       "4        python programming   B1\n",
       "...                     ...  ...\n",
       "2199       oreiented python   B7\n",
       "2200       oreiented object   B7\n",
       "2201       object oreiented   B7\n",
       "2202     object programming   B7\n",
       "2203          object python   B7\n",
       "\n",
       "[2204 rows x 2 columns]"
      ]
     },
     "execution_count": 13,
     "metadata": {},
     "output_type": "execute_result"
    }
   ],
   "source": [
    "import numpy  \n",
    "Dt = numpy.array(Dt)  \n",
    "KYS = pd.DataFrame({'Keywords':Dt[:,0],'Book':Dt[:,1]})  \n",
    "KYS \n",
    " "
   ]
  },
  {
   "cell_type": "code",
   "execution_count": 16,
   "metadata": {},
   "outputs": [],
   "source": [
    "inp = Dt[:,0]  \n",
    "Y = Dt[:,1]  \n",
    "enc = CountVectorizer()  \n",
    "enc.fit(inp)  \n",
    "e_inp = enc.transform(inp)  \n",
    "tf = TfidfTransformer()  \n",
    "tf.fit(e_inp)  \n",
    "X = tf.transform(e_inp)  \n"
   ]
  },
  {
   "cell_type": "code",
   "execution_count": 17,
   "metadata": {},
   "outputs": [
    {
     "data": {
      "text/html": [
       "<style>#sk-container-id-1 {color: black;background-color: white;}#sk-container-id-1 pre{padding: 0;}#sk-container-id-1 div.sk-toggleable {background-color: white;}#sk-container-id-1 label.sk-toggleable__label {cursor: pointer;display: block;width: 100%;margin-bottom: 0;padding: 0.3em;box-sizing: border-box;text-align: center;}#sk-container-id-1 label.sk-toggleable__label-arrow:before {content: \"▸\";float: left;margin-right: 0.25em;color: #696969;}#sk-container-id-1 label.sk-toggleable__label-arrow:hover:before {color: black;}#sk-container-id-1 div.sk-estimator:hover label.sk-toggleable__label-arrow:before {color: black;}#sk-container-id-1 div.sk-toggleable__content {max-height: 0;max-width: 0;overflow: hidden;text-align: left;background-color: #f0f8ff;}#sk-container-id-1 div.sk-toggleable__content pre {margin: 0.2em;color: black;border-radius: 0.25em;background-color: #f0f8ff;}#sk-container-id-1 input.sk-toggleable__control:checked~div.sk-toggleable__content {max-height: 200px;max-width: 100%;overflow: auto;}#sk-container-id-1 input.sk-toggleable__control:checked~label.sk-toggleable__label-arrow:before {content: \"▾\";}#sk-container-id-1 div.sk-estimator input.sk-toggleable__control:checked~label.sk-toggleable__label {background-color: #d4ebff;}#sk-container-id-1 div.sk-label input.sk-toggleable__control:checked~label.sk-toggleable__label {background-color: #d4ebff;}#sk-container-id-1 input.sk-hidden--visually {border: 0;clip: rect(1px 1px 1px 1px);clip: rect(1px, 1px, 1px, 1px);height: 1px;margin: -1px;overflow: hidden;padding: 0;position: absolute;width: 1px;}#sk-container-id-1 div.sk-estimator {font-family: monospace;background-color: #f0f8ff;border: 1px dotted black;border-radius: 0.25em;box-sizing: border-box;margin-bottom: 0.5em;}#sk-container-id-1 div.sk-estimator:hover {background-color: #d4ebff;}#sk-container-id-1 div.sk-parallel-item::after {content: \"\";width: 100%;border-bottom: 1px solid gray;flex-grow: 1;}#sk-container-id-1 div.sk-label:hover label.sk-toggleable__label {background-color: #d4ebff;}#sk-container-id-1 div.sk-serial::before {content: \"\";position: absolute;border-left: 1px solid gray;box-sizing: border-box;top: 0;bottom: 0;left: 50%;z-index: 0;}#sk-container-id-1 div.sk-serial {display: flex;flex-direction: column;align-items: center;background-color: white;padding-right: 0.2em;padding-left: 0.2em;position: relative;}#sk-container-id-1 div.sk-item {position: relative;z-index: 1;}#sk-container-id-1 div.sk-parallel {display: flex;align-items: stretch;justify-content: center;background-color: white;position: relative;}#sk-container-id-1 div.sk-item::before, #sk-container-id-1 div.sk-parallel-item::before {content: \"\";position: absolute;border-left: 1px solid gray;box-sizing: border-box;top: 0;bottom: 0;left: 50%;z-index: -1;}#sk-container-id-1 div.sk-parallel-item {display: flex;flex-direction: column;z-index: 1;position: relative;background-color: white;}#sk-container-id-1 div.sk-parallel-item:first-child::after {align-self: flex-end;width: 50%;}#sk-container-id-1 div.sk-parallel-item:last-child::after {align-self: flex-start;width: 50%;}#sk-container-id-1 div.sk-parallel-item:only-child::after {width: 0;}#sk-container-id-1 div.sk-dashed-wrapped {border: 1px dashed gray;margin: 0 0.4em 0.5em 0.4em;box-sizing: border-box;padding-bottom: 0.4em;background-color: white;}#sk-container-id-1 div.sk-label label {font-family: monospace;font-weight: bold;display: inline-block;line-height: 1.2em;}#sk-container-id-1 div.sk-label-container {text-align: center;}#sk-container-id-1 div.sk-container {/* jupyter's `normalize.less` sets `[hidden] { display: none; }` but bootstrap.min.css set `[hidden] { display: none !important; }` so we also need the `!important` here to be able to override the default hidden behavior on the sphinx rendered scikit-learn.org. See: https://github.com/scikit-learn/scikit-learn/issues/21755 */display: inline-block !important;position: relative;}#sk-container-id-1 div.sk-text-repr-fallback {display: none;}</style><div id=\"sk-container-id-1\" class=\"sk-top-container\"><div class=\"sk-text-repr-fallback\"><pre>DecisionTreeClassifier()</pre><b>In a Jupyter environment, please rerun this cell to show the HTML representation or trust the notebook. <br />On GitHub, the HTML representation is unable to render, please try loading this page with nbviewer.org.</b></div><div class=\"sk-container\" hidden><div class=\"sk-item\"><div class=\"sk-estimator sk-toggleable\"><input class=\"sk-toggleable__control sk-hidden--visually\" id=\"sk-estimator-id-1\" type=\"checkbox\" checked><label for=\"sk-estimator-id-1\" class=\"sk-toggleable__label sk-toggleable__label-arrow\">DecisionTreeClassifier</label><div class=\"sk-toggleable__content\"><pre>DecisionTreeClassifier()</pre></div></div></div></div></div>"
      ],
      "text/plain": [
       "DecisionTreeClassifier()"
      ]
     },
     "execution_count": 17,
     "metadata": {},
     "output_type": "execute_result"
    }
   ],
   "source": [
    "CModel=DecisionTreeClassifier()\n",
    "CModel.fit(X,Y)"
   ]
  },
  {
   "cell_type": "code",
   "execution_count": 24,
   "metadata": {},
   "outputs": [],
   "source": [
    "def search_book():  \n",
    "    query = input('Search:')  \n",
    "    enc_q = enc.transform([query])  \n",
    "    tf_q = tf.transform(enc_q)  \n",
    "    bk = CModel.predict(tf_q)  \n",
    "    i = {'B1': 0, 'B2': 1, 'B3': 2, 'B4': 3,  'B5': 4, 'B6': 5, 'B7': 6}  \n",
    "    title = dt.values[i[bk[0]],0]  \n",
    "    desc = dt.values[i[bk[0]],1]  \n",
    "    price = dt.values[i[bk[0]],3]  \n",
    "    result = f\"\"\"  \n",
    "    Query:\n",
    "    {query}\n",
    "    \n",
    "    Tittle:  \n",
    "    {title}  \n",
    "    \n",
    "    Description:  \n",
    "    {desc}  \n",
    "    \n",
    "    Price:\n",
    "    {price}\"\"\"  \n",
    "    print(result) \n",
    "\n"
   ]
  },
  {
   "cell_type": "code",
   "execution_count": 25,
   "metadata": {},
   "outputs": [
    {
     "name": "stdout",
     "output_type": "stream",
     "text": [
      "  \n",
      "    Query:\n",
      "    data cleaning\n",
      "    \n",
      "    Tittle:  \n",
      "    Data analysis with Python  \n",
      "    \n",
      "    Description:  \n",
      "    Learn how to perform different types of analytics on data like central tendency, informations gain, feature extraction, Label Encoding, Scaling, Standard deviations, interquartile range, etc. with Python.  \n",
      "    \n",
      "    Price:\n",
      "    $3.00\n"
     ]
    }
   ],
   "source": [
    "search_book()"
   ]
  },
  {
   "cell_type": "code",
   "execution_count": 26,
   "metadata": {},
   "outputs": [
    {
     "name": "stdout",
     "output_type": "stream",
     "text": [
      "  \n",
      "    Query:\n",
      "    book for python\n",
      "    \n",
      "    Tittle:  \n",
      "    It's Python  \n",
      "    \n",
      "    Description:  \n",
      "    A beginners guidebook to programming with Python. We will learn about different data-types in python, decision constrol using if statements, creating loops and how to  iterate over data types.  \n",
      "    \n",
      "    Price:\n",
      "    $3.00\n"
     ]
    }
   ],
   "source": [
    "search_book()"
   ]
  },
  {
   "cell_type": "code",
   "execution_count": 27,
   "metadata": {},
   "outputs": [
    {
     "name": "stdout",
     "output_type": "stream",
     "text": [
      "Requirement already satisfied: gTTs in /Users/jigishap/.pyenv/versions/3.10.6/envs/AI_concepts/lib/python3.10/site-packages (2.3.1)\n",
      "Requirement already satisfied: click<8.2,>=7.1 in /Users/jigishap/.pyenv/versions/3.10.6/envs/AI_concepts/lib/python3.10/site-packages (from gTTs) (8.1.3)\n",
      "Requirement already satisfied: requests<3,>=2.27 in /Users/jigishap/.pyenv/versions/3.10.6/envs/AI_concepts/lib/python3.10/site-packages (from gTTs) (2.28.2)\n",
      "Requirement already satisfied: idna<4,>=2.5 in /Users/jigishap/.pyenv/versions/3.10.6/envs/AI_concepts/lib/python3.10/site-packages (from requests<3,>=2.27->gTTs) (3.4)\n",
      "Requirement already satisfied: certifi>=2017.4.17 in /Users/jigishap/.pyenv/versions/3.10.6/envs/AI_concepts/lib/python3.10/site-packages (from requests<3,>=2.27->gTTs) (2022.12.7)\n",
      "Requirement already satisfied: urllib3<1.27,>=1.21.1 in /Users/jigishap/.pyenv/versions/3.10.6/envs/AI_concepts/lib/python3.10/site-packages (from requests<3,>=2.27->gTTs) (1.26.14)\n",
      "Requirement already satisfied: charset-normalizer<4,>=2 in /Users/jigishap/.pyenv/versions/3.10.6/envs/AI_concepts/lib/python3.10/site-packages (from requests<3,>=2.27->gTTs) (3.0.1)\n",
      "Note: you may need to restart the kernel to use updated packages.\n"
     ]
    }
   ],
   "source": [
    "pip install gTTs"
   ]
  },
  {
   "cell_type": "code",
   "execution_count": 28,
   "metadata": {},
   "outputs": [
    {
     "name": "stdout",
     "output_type": "stream",
     "text": [
      "Requirement already satisfied: Pyaudio in /Users/jigishap/.pyenv/versions/3.10.6/envs/AI_concepts/lib/python3.10/site-packages (0.2.13)\n",
      "Note: you may need to restart the kernel to use updated packages.\n"
     ]
    }
   ],
   "source": [
    "pip install Pyaudio\n"
   ]
  },
  {
   "cell_type": "code",
   "execution_count": 29,
   "metadata": {},
   "outputs": [],
   "source": [
    "def search_book(Type='text'):  \n",
    "    import speech_recognition  \n",
    "    from gtts import gTTS  \n",
    "    import IPython  \n",
    "    if Type == 'text':  \n",
    "        query = input('Search:')  \n",
    "    elif Type == 'voice':  \n",
    "        voice = speech_recognition.Recognizer()  \n",
    "        with speech_recognition.Microphone() as a:  \n",
    "            voice.adjust_for_ambient_noise(a)  \n",
    "            print(\"Your Query:\")  \n",
    "            aud = voice.listen(a)  \n",
    "        query = voice.recognize_google(aud)  \n",
    "    enc_q = enc.transform([query])  \n",
    "    tf_q = tf.transform(enc_q)  \n",
    "    bk = CModel.predict(tf_q)  \n",
    "    i = {'B1': 0, 'B2': 1, 'B3': 2, 'B4': 3,  'B5': 4, 'B6': 5, 'B7': 6}  \n",
    "    title = dt.values[i[bk[0]],0]  \n",
    "    desc = dt.values[i[bk[0]],1]  \n",
    "    price = dt.values[i[bk[0]],3]  \n",
    "    result = f\"\"\"  \n",
    "    Query:\n",
    "    {query}\n",
    "    \n",
    "    Tittle:  \n",
    "    {title}  \n",
    "    \n",
    "    Description:  \n",
    "    {desc}  \n",
    "    \n",
    "    Price:\n",
    "    {price}\"\"\"  \n",
    "    print(result) \n",
    "    \n",
    "    spkr = gTTS(text = result, lang = 'en')  \n",
    "    spkr.save(\"voice.mp3\")  \n",
    "    print(result)  \n",
    "    IPython.display.Audio(\"voice.mp3\",  autoplay=True) \n"
   ]
  },
  {
   "cell_type": "code",
   "execution_count": 37,
   "metadata": {},
   "outputs": [
    {
     "name": "stdout",
     "output_type": "stream",
     "text": [
      "Your Query:\n",
      "result2:\n",
      "{   'alternative': [   {   'confidence': 0.95467669,\n",
      "                           'transcript': 'data cleaning'},\n",
      "                       {'transcript': 'data-cleaning'}],\n",
      "    'final': True}\n",
      "  \n",
      "    Query:\n",
      "    data cleaning\n",
      "    \n",
      "    Tittle:  \n",
      "    Data analysis with Python  \n",
      "    \n",
      "    Description:  \n",
      "    Learn how to perform different types of analytics on data like central tendency, informations gain, feature extraction, Label Encoding, Scaling, Standard deviations, interquartile range, etc. with Python.  \n",
      "    \n",
      "    Price:\n",
      "    $3.00\n",
      "  \n",
      "    Query:\n",
      "    data cleaning\n",
      "    \n",
      "    Tittle:  \n",
      "    Data analysis with Python  \n",
      "    \n",
      "    Description:  \n",
      "    Learn how to perform different types of analytics on data like central tendency, informations gain, feature extraction, Label Encoding, Scaling, Standard deviations, interquartile range, etc. with Python.  \n",
      "    \n",
      "    Price:\n",
      "    $3.00\n"
     ]
    }
   ],
   "source": [
    "search_book(Type='voice')"
   ]
  }
 ],
 "metadata": {
  "kernelspec": {
   "display_name": "Python 3",
   "language": "python",
   "name": "python3"
  },
  "language_info": {
   "codemirror_mode": {
    "name": "ipython",
    "version": 3
   },
   "file_extension": ".py",
   "mimetype": "text/x-python",
   "name": "python",
   "nbconvert_exporter": "python",
   "pygments_lexer": "ipython3",
   "version": "3.10.6"
  },
  "orig_nbformat": 4,
  "vscode": {
   "interpreter": {
    "hash": "6d3455b64add104533d44b8de3a67406353957e0918ca2161a30cd043c50dfdc"
   }
  }
 },
 "nbformat": 4,
 "nbformat_minor": 2
}
